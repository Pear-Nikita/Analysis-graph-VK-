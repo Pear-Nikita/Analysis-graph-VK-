{
 "cells": [
  {
   "cell_type": "code",
   "execution_count": null,
   "id": "e7a119c6-11bc-4dcb-a585-7b2161a23213",
   "metadata": {},
   "outputs": [],
   "source": [
    "import cugraph\n",
    "import cudf\n",
    "import json\n",
    "import operator\n",
    "\n",
    "input_filename = \"vk_network.csv\"\n",
    "\n",
    "print(\"Загрузка данных из CSV...\")\n",
    "df = cudf.read_csv(input_filename)\n",
    "n_G = cugraph.from_cudf_edgelist(df, source='source', destination='target')\n",
    "\n",
    "#(Betweenness Centrality)\n",
    "print(\"Вычисление междуцентральности...\")\n",
    "betweenness = cugraph.betweenness_centrality(n_G)\n",
    "betweenness_dict = dict(zip(betweenness['vertex'].to_pandas(), betweenness['betweenness_centrality'].to_pandas()))\n",
    "sorted_betweenness = dict(sorted(betweenness_dict.items(), key=operator.itemgetter(1), reverse=True))\n",
    "with open(\"top_nodes_betw.json\", \"w\", encoding=\"utf-8\") as f:\n",
    "    json.dump(sorted_betweenness, f, ensure_ascii=False, indent=2)\n",
    "\n",
    "#(Degree Centrality)\n",
    "print(\"Вычисление степени центральности...\")\n",
    "degree = cugraph.degree_centrality(n_G)\n",
    "degree_dict = dict(zip(degree['vertex'].to_pandas(), degree['degree_centrality'].to_pandas()))\n",
    "sorted_degree = dict(sorted(degree_dict.items(), key=operator.itemgetter(1), reverse=True))\n",
    "with open(\"top_nodes_degree.json\", \"w\", encoding=\"utf-8\") as f:\n",
    "    json.dump(sorted_degree, f, ensure_ascii=False, indent=2)\n",
    "\n",
    "# (Eigenvector Centrality)\n",
    "print(\"Вычисление центральности по собственным векторам...\")\n",
    "eigenvector = cugraph.eigenvector_centrality(n_G, max_iter=100000, tol=1e-06)\n",
    "eigenvector_dict = dict(zip(eigenvector['vertex'].to_pandas(), eigenvector['eigenvector_centrality'].to_pandas()))\n",
    "sorted_eigenvector = dict(sorted(eigenvector_dict.items(), key=operator.itemgetter(1), reverse=True))\n",
    "with open(\"top_nodes_eigen.json\", \"w\", encoding=\"utf-8\") as f:\n",
    "    json.dump(sorted_eigenvector, f, ensure_ascii=False, indent=2)\n",
    "\n",
    "print(\"\\n ТОП узлы по центральностям сохранены в файлы:\")\n",
    "print(\"  - top_nodes_betw.json\")\n",
    "print(\"  - top_nodes_degree.json\")\n",
    "print(\"  - top_nodes_eigen.json\")\n"
   ]
  }
 ],
 "metadata": {
  "kernelspec": {
   "display_name": "Python [conda env:base] *",
   "language": "python",
   "name": "conda-base-py"
  },
  "language_info": {
   "codemirror_mode": {
    "name": "ipython",
    "version": 3
   },
   "file_extension": ".py",
   "mimetype": "text/x-python",
   "name": "python",
   "nbconvert_exporter": "python",
   "pygments_lexer": "ipython3",
   "version": "3.12.7"
  }
 },
 "nbformat": 4,
 "nbformat_minor": 5
}
