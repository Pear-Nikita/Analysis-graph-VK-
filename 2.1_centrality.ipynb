{
 "cells": [
  {
   "cell_type": "code",
   "execution_count": 37,
   "id": "c121cb7e-f045-408a-b387-4bf55de8ff01",
   "metadata": {},
   "outputs": [
    {
     "name": "stdout",
     "output_type": "stream",
     "text": [
      "csv\n",
      "read csv\n",
      "betweenness centrality\n"
     ]
    },
    {
     "ename": "KeyboardInterrupt",
     "evalue": "",
     "output_type": "error",
     "traceback": [
      "\u001b[1;31m---------------------------------------------------------------------------\u001b[0m",
      "\u001b[1;31mKeyboardInterrupt\u001b[0m                         Traceback (most recent call last)",
      "Cell \u001b[1;32mIn[37], line 16\u001b[0m\n\u001b[0;32m     14\u001b[0m \u001b[38;5;66;03m# Betweenness Centrality\u001b[39;00m\n\u001b[0;32m     15\u001b[0m \u001b[38;5;28mprint\u001b[39m(\u001b[38;5;124m\"\u001b[39m\u001b[38;5;124mbetweenness centrality\u001b[39m\u001b[38;5;124m\"\u001b[39m)\n\u001b[1;32m---> 16\u001b[0m betweenness \u001b[38;5;241m=\u001b[39m nx\u001b[38;5;241m.\u001b[39mbetweenness_centrality(G)\n\u001b[0;32m     17\u001b[0m \u001b[38;5;28mprint\u001b[39m(\u001b[38;5;124m\"\u001b[39m\u001b[38;5;124mnx\u001b[39m\u001b[38;5;124m\"\u001b[39m)\n\u001b[0;32m     18\u001b[0m sorted_betweenness \u001b[38;5;241m=\u001b[39m \u001b[38;5;28msorted\u001b[39m(betweenness\u001b[38;5;241m.\u001b[39mitems(), key\u001b[38;5;241m=\u001b[39moperator\u001b[38;5;241m.\u001b[39mitemgetter(\u001b[38;5;241m1\u001b[39m), reverse\u001b[38;5;241m=\u001b[39m\u001b[38;5;28;01mTrue\u001b[39;00m)\n",
      "File \u001b[1;32m<class 'networkx.utils.decorators.argmap'> compilation 17:4\u001b[0m, in \u001b[0;36margmap_betweenness_centrality_13\u001b[1;34m(G, k, normalized, weight, endpoints, seed, backend, **backend_kwargs)\u001b[0m\n\u001b[0;32m      2\u001b[0m \u001b[38;5;28;01mimport\u001b[39;00m \u001b[38;5;21;01mcollections\u001b[39;00m\n\u001b[0;32m      3\u001b[0m \u001b[38;5;28;01mimport\u001b[39;00m \u001b[38;5;21;01mgzip\u001b[39;00m\n\u001b[1;32m----> 4\u001b[0m \u001b[38;5;28;01mimport\u001b[39;00m \u001b[38;5;21;01minspect\u001b[39;00m\n\u001b[0;32m      5\u001b[0m \u001b[38;5;28;01mimport\u001b[39;00m \u001b[38;5;21;01mitertools\u001b[39;00m\n\u001b[0;32m      6\u001b[0m \u001b[38;5;28;01mimport\u001b[39;00m \u001b[38;5;21;01mre\u001b[39;00m\n",
      "File \u001b[1;32mD:\\ANACONDA\\Lib\\site-packages\\networkx\\utils\\backends.py:633\u001b[0m, in \u001b[0;36m_dispatchable.__call__\u001b[1;34m(self, backend, *args, **kwargs)\u001b[0m\n\u001b[0;32m    628\u001b[0m \u001b[38;5;250m\u001b[39m\u001b[38;5;124;03m\"\"\"Returns the result of the original function, or the backend function if\u001b[39;00m\n\u001b[0;32m    629\u001b[0m \u001b[38;5;124;03mthe backend is specified and that backend implements `func`.\"\"\"\u001b[39;00m\n\u001b[0;32m    631\u001b[0m \u001b[38;5;28;01mif\u001b[39;00m \u001b[38;5;129;01mnot\u001b[39;00m backends:\n\u001b[0;32m    632\u001b[0m     \u001b[38;5;66;03m# Fast path if no backends are installed\u001b[39;00m\n\u001b[1;32m--> 633\u001b[0m     \u001b[38;5;28;01mreturn\u001b[39;00m \u001b[38;5;28mself\u001b[39m\u001b[38;5;241m.\u001b[39morig_func(\u001b[38;5;241m*\u001b[39margs, \u001b[38;5;241m*\u001b[39m\u001b[38;5;241m*\u001b[39mkwargs)\n\u001b[0;32m    635\u001b[0m \u001b[38;5;66;03m# Use `backend_name` in this function instead of `backend`\u001b[39;00m\n\u001b[0;32m    636\u001b[0m backend_name \u001b[38;5;241m=\u001b[39m backend\n",
      "File \u001b[1;32mD:\\ANACONDA\\Lib\\site-packages\\networkx\\algorithms\\centrality\\betweenness.py:136\u001b[0m, in \u001b[0;36mbetweenness_centrality\u001b[1;34m(G, k, normalized, weight, endpoints, seed)\u001b[0m\n\u001b[0;32m    133\u001b[0m \u001b[38;5;28;01mfor\u001b[39;00m s \u001b[38;5;129;01min\u001b[39;00m nodes:\n\u001b[0;32m    134\u001b[0m     \u001b[38;5;66;03m# single source shortest paths\u001b[39;00m\n\u001b[0;32m    135\u001b[0m     \u001b[38;5;28;01mif\u001b[39;00m weight \u001b[38;5;129;01mis\u001b[39;00m \u001b[38;5;28;01mNone\u001b[39;00m:  \u001b[38;5;66;03m# use BFS\u001b[39;00m\n\u001b[1;32m--> 136\u001b[0m         S, P, sigma, _ \u001b[38;5;241m=\u001b[39m _single_source_shortest_path_basic(G, s)\n\u001b[0;32m    137\u001b[0m     \u001b[38;5;28;01melse\u001b[39;00m:  \u001b[38;5;66;03m# use Dijkstra's algorithm\u001b[39;00m\n\u001b[0;32m    138\u001b[0m         S, P, sigma, _ \u001b[38;5;241m=\u001b[39m _single_source_dijkstra_path_basic(G, s, weight)\n",
      "File \u001b[1;32mD:\\ANACONDA\\Lib\\site-packages\\networkx\\algorithms\\centrality\\betweenness.py:272\u001b[0m, in \u001b[0;36m_single_source_shortest_path_basic\u001b[1;34m(G, s)\u001b[0m\n\u001b[0;32m    270\u001b[0m \u001b[38;5;28;01mfor\u001b[39;00m w \u001b[38;5;129;01min\u001b[39;00m G[v]:\n\u001b[0;32m    271\u001b[0m     \u001b[38;5;28;01mif\u001b[39;00m w \u001b[38;5;129;01mnot\u001b[39;00m \u001b[38;5;129;01min\u001b[39;00m D:\n\u001b[1;32m--> 272\u001b[0m         Q\u001b[38;5;241m.\u001b[39mappend(w)\n\u001b[0;32m    273\u001b[0m         D[w] \u001b[38;5;241m=\u001b[39m Dv \u001b[38;5;241m+\u001b[39m \u001b[38;5;241m1\u001b[39m\n\u001b[0;32m    274\u001b[0m     \u001b[38;5;28;01mif\u001b[39;00m D[w] \u001b[38;5;241m==\u001b[39m Dv \u001b[38;5;241m+\u001b[39m \u001b[38;5;241m1\u001b[39m:  \u001b[38;5;66;03m# this is a shortest path, count paths\u001b[39;00m\n",
      "\u001b[1;31mKeyboardInterrupt\u001b[0m: "
     ]
    }
   ],
   "source": [
    "import networkx as nx\n",
    "import pandas as pd\n",
    "import operator\n",
    "import json\n",
    "\n",
    "print(\"csv\")\n",
    "input_filename = \"data/vk_network.csv\"\n",
    "top_n = 100\n",
    "\n",
    "print(\"read csv\")\n",
    "df = pd.read_csv(input_filename)\n",
    "G = nx.from_pandas_edgelist(df)\n",
    "\n",
    "# Betweenness Centrality\n",
    "print(\"betweenness centrality\")\n",
    "betweenness = nx.betweenness_centrality(G)\n",
    "print(\"nx\")\n",
    "sorted_betweenness = sorted(betweenness.items(), key=operator.itemgetter(1), reverse=True)\n",
    "print(\"\\nTOP Betweenness Centrality:\")\n",
    "for node, value in sorted_betweenness[:top_n]:\n",
    "    print(f\"{node}: {value:.4f}\")\n",
    "\n",
    "# Degree Centrality\n",
    "print(\"degree centrality\")\n",
    "degree = nx.degree_centrality(G)\n",
    "sorted_degree = sorted(degree.items(), key=operator.itemgetter(1), reverse=True)\n",
    "print(\"\\nTOP Degree Centrality:\")\n",
    "for node, value in sorted_degree[:top_n]:\n",
    "    print(f\"{node}: {value:.4f}\")\n",
    "\n",
    "# Eigenvector Centrality\n",
    "print(\"eigenvector centrality\")\n",
    "eigenvector = nx.eigenvector_centrality(G, max_iter=100000, tol=1e-06)\n",
    "sorted_eigenvector = sorted(eigenvector.items(), key=operator.itemgetter(1), reverse=True)\n",
    "print(\"\\nTOP Eigenvector Centrality:\")\n",
    "for node, value in sorted_eigenvector[:top_n]:\n",
    "    print(f\"{node}: {value:.4f}\")\n",
    "\n",
    "# Save top nodes\n",
    "print(\"save top nodes\")\n",
    "top_nodes = [node for node, value in sorted_degree[:top_n]]\n",
    "\n",
    "with open(\"data/top_nodes.json\", \"w\") as f:\n",
    "    json.dump(top_nodes, f)\n",
    "\n",
    "print(f\"\\nTOP-{top_n} узлов сохранены в файл: data/top_nodes.json\")"
   ]
  },
  {
   "cell_type": "code",
   "execution_count": null,
   "id": "2aa5df44-1b3b-490b-903c-c8abeee6350f",
   "metadata": {},
   "outputs": [],
   "source": []
  },
  {
   "cell_type": "code",
   "execution_count": null,
   "id": "79daa501-c1c4-4128-ba7c-e9e0c44ce31a",
   "metadata": {},
   "outputs": [],
   "source": []
  }
 ],
 "metadata": {
  "kernelspec": {
   "display_name": "Python [conda env:base] *",
   "language": "python",
   "name": "conda-base-py"
  },
  "language_info": {
   "codemirror_mode": {
    "name": "ipython",
    "version": 3
   },
   "file_extension": ".py",
   "mimetype": "text/x-python",
   "name": "python",
   "nbconvert_exporter": "python",
   "pygments_lexer": "ipython3",
   "version": "3.12.7"
  }
 },
 "nbformat": 4,
 "nbformat_minor": 5
}
