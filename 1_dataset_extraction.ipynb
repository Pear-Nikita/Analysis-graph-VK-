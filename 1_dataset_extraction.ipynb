{
 "cells": [
  {
   "cell_type": "code",
   "execution_count": 67,
   "id": "f585097d-fcaa-49ea-97c0-6af6f3c6f42d",
   "metadata": {},
   "outputs": [
    {
     "name": "stdout",
     "output_type": "stream",
     "text": [
      "Получаем друзей пользователя: 580795050\n",
      "Найдено друзей: 298\n",
      "\n",
      "Граф друзей сохранён в: data/vk_network.csv\n",
      "Всего рёбер в графе: 77789\n"
     ]
    }
   ],
   "source": [
    "import vk_api \n",
    "import time \n",
    "import pandas as pd\n",
    "\n",
    "access_token = '-' # access_token\n",
    "target_user_id = '' # ← ID\n",
    "\n",
    "vk_session = vk_api.VkApi(token=access_token) \n",
    "vk = vk_session.get_api()\n",
    "\n",
    "print(f\"Получаем друзей пользователя: {target_user_id}\") \n",
    "friends = vk.friends.get(user_id=target_user_id)['items'] \n",
    "print(f\"Найдено друзей: {len(friends)}\")\n",
    "\n",
    "i = 1\n",
    "edges = []\n",
    "for friend_id in friends: \n",
    "    edges.append((target_user_id, friend_id))\n",
    "    try:\n",
    "        friend_friends = vk.friends.get(user_id=friend_id)['items']\n",
    "        for sub_friend_id in friend_friends:\n",
    "            edges.append((friend_id, sub_friend_id))\n",
    "        time.sleep(0.3)  # пауза чтобы не попасть под лимиты VK API\n",
    "    except vk_api.exceptions.ApiError:\n",
    "        pass  # у некоторых друзей закрытый профиль, пропускаем\n",
    "        \n",
    "df = pd.DataFrame(edges, columns=['source', 'target']) \n",
    "output_file = 'data/vk_network.csv' \n",
    "df.to_csv(output_file, index=False)\n",
    "\n",
    "print(f\"\\nГраф друзей сохранён в: {output_file}\") \n",
    "print(f\"Всего рёбер в графе: {len(edges)}\") "
   ]
  },
  {
   "cell_type": "code",
   "execution_count": null,
   "id": "98bf0da5-dfc6-4352-9f90-1f2c25b1bd52",
   "metadata": {},
   "outputs": [],
   "source": []
  },
  {
   "cell_type": "code",
   "execution_count": null,
   "id": "2e3c7907-e045-4c2e-9df1-ba82e43805bf",
   "metadata": {},
   "outputs": [],
   "source": []
  }
 ],
 "metadata": {
  "kernelspec": {
   "display_name": "Python [conda env:base] *",
   "language": "python",
   "name": "conda-base-py"
  },
  "language_info": {
   "codemirror_mode": {
    "name": "ipython",
    "version": 3
   },
   "file_extension": ".py",
   "mimetype": "text/x-python",
   "name": "python",
   "nbconvert_exporter": "python",
   "pygments_lexer": "ipython3",
   "version": "3.12.7"
  }
 },
 "nbformat": 4,
 "nbformat_minor": 5
}
